{
 "cells": [
  {
   "cell_type": "code",
   "execution_count": 15,
   "metadata": {},
   "outputs": [],
   "source": [
    "import pandas as pd\n",
    "import numpy as np\n",
    "from datetime import datetime\n",
    "import matplotlib.pyplot as plt\n",
    "import seaborn as sns\n",
    "\n",
    "#this is a python magic function to automatically show matplotlib plots\n",
    "%matplotlib inline"
   ]
  },
  {
   "cell_type": "code",
   "execution_count": 16,
   "metadata": {},
   "outputs": [
    {
     "data": {
      "text/html": [
       "<div>\n",
       "<style scoped>\n",
       "    .dataframe tbody tr th:only-of-type {\n",
       "        vertical-align: middle;\n",
       "    }\n",
       "\n",
       "    .dataframe tbody tr th {\n",
       "        vertical-align: top;\n",
       "    }\n",
       "\n",
       "    .dataframe thead th {\n",
       "        text-align: right;\n",
       "    }\n",
       "</style>\n",
       "<table border=\"1\" class=\"dataframe\">\n",
       "  <thead>\n",
       "    <tr style=\"text-align: right;\">\n",
       "      <th></th>\n",
       "      <th>Unnamed: 0</th>\n",
       "      <th>Race</th>\n",
       "      <th>Runners</th>\n",
       "      <th>Fastest Time</th>\n",
       "      <th>Slowest Time</th>\n",
       "      <th>Time Difference</th>\n",
       "      <th>Did Not Finish</th>\n",
       "    </tr>\n",
       "  </thead>\n",
       "  <tbody>\n",
       "    <tr>\n",
       "      <th>0</th>\n",
       "      <td>0</td>\n",
       "      <td>2016</td>\n",
       "      <td>22429</td>\n",
       "      <td>2020-11-22 01:11:15</td>\n",
       "      <td>2020-11-22 04:54:41</td>\n",
       "      <td>0 days 03:43:26.000000000</td>\n",
       "      <td>4512</td>\n",
       "    </tr>\n",
       "    <tr>\n",
       "      <th>1</th>\n",
       "      <td>1</td>\n",
       "      <td>2017</td>\n",
       "      <td>22292</td>\n",
       "      <td>2020-11-22 01:10:58</td>\n",
       "      <td>2020-11-22 06:18:24</td>\n",
       "      <td>0 days 05:07:26.000000000</td>\n",
       "      <td>4593</td>\n",
       "    </tr>\n",
       "  </tbody>\n",
       "</table>\n",
       "</div>"
      ],
      "text/plain": [
       "   Unnamed: 0  Race  Runners         Fastest Time         Slowest Time  \\\n",
       "0           0  2016    22429  2020-11-22 01:11:15  2020-11-22 04:54:41   \n",
       "1           1  2017    22292  2020-11-22 01:10:58  2020-11-22 06:18:24   \n",
       "\n",
       "             Time Difference  Did Not Finish  \n",
       "0  0 days 03:43:26.000000000            4512  \n",
       "1  0 days 05:07:26.000000000            4593  "
      ]
     },
     "execution_count": 16,
     "metadata": {},
     "output_type": "execute_result"
    }
   ],
   "source": [
    "half_races = pd.read_csv('../data/half_races.csv')\n",
    "half_races.head(2)"
   ]
  },
  {
   "cell_type": "code",
   "execution_count": 17,
   "metadata": {},
   "outputs": [
    {
     "data": {
      "text/html": [
       "<div>\n",
       "<style scoped>\n",
       "    .dataframe tbody tr th:only-of-type {\n",
       "        vertical-align: middle;\n",
       "    }\n",
       "\n",
       "    .dataframe tbody tr th {\n",
       "        vertical-align: top;\n",
       "    }\n",
       "\n",
       "    .dataframe thead th {\n",
       "        text-align: right;\n",
       "    }\n",
       "</style>\n",
       "<table border=\"1\" class=\"dataframe\">\n",
       "  <thead>\n",
       "    <tr style=\"text-align: right;\">\n",
       "      <th></th>\n",
       "      <th>Unnamed: 0</th>\n",
       "      <th>Race</th>\n",
       "      <th>Runners</th>\n",
       "      <th>Fastest Time</th>\n",
       "      <th>Slowest Time</th>\n",
       "      <th>Time Difference</th>\n",
       "      <th>Did Not Finish</th>\n",
       "    </tr>\n",
       "  </thead>\n",
       "  <tbody>\n",
       "    <tr>\n",
       "      <th>0</th>\n",
       "      <td>0</td>\n",
       "      <td>2016</td>\n",
       "      <td>22429</td>\n",
       "      <td>01:11:15</td>\n",
       "      <td>04:54:41</td>\n",
       "      <td>0 days 03:43:26.000000000</td>\n",
       "      <td>4512</td>\n",
       "    </tr>\n",
       "    <tr>\n",
       "      <th>1</th>\n",
       "      <td>1</td>\n",
       "      <td>2017</td>\n",
       "      <td>22292</td>\n",
       "      <td>01:10:58</td>\n",
       "      <td>06:18:24</td>\n",
       "      <td>0 days 05:07:26.000000000</td>\n",
       "      <td>4593</td>\n",
       "    </tr>\n",
       "    <tr>\n",
       "      <th>2</th>\n",
       "      <td>2</td>\n",
       "      <td>2018</td>\n",
       "      <td>14940</td>\n",
       "      <td>01:09:25</td>\n",
       "      <td>06:26:37</td>\n",
       "      <td>0 days 05:17:12.000000000</td>\n",
       "      <td>0</td>\n",
       "    </tr>\n",
       "    <tr>\n",
       "      <th>3</th>\n",
       "      <td>3</td>\n",
       "      <td>2019</td>\n",
       "      <td>17236</td>\n",
       "      <td>01:10:03</td>\n",
       "      <td>05:52:56</td>\n",
       "      <td>0 days 04:42:53.000000000</td>\n",
       "      <td>3530</td>\n",
       "    </tr>\n",
       "  </tbody>\n",
       "</table>\n",
       "</div>"
      ],
      "text/plain": [
       "   Unnamed: 0  Race  Runners Fastest Time Slowest Time  \\\n",
       "0           0  2016    22429     01:11:15     04:54:41   \n",
       "1           1  2017    22292     01:10:58     06:18:24   \n",
       "2           2  2018    14940     01:09:25     06:26:37   \n",
       "3           3  2019    17236     01:10:03     05:52:56   \n",
       "\n",
       "             Time Difference  Did Not Finish  \n",
       "0  0 days 03:43:26.000000000            4512  \n",
       "1  0 days 05:07:26.000000000            4593  \n",
       "2  0 days 05:17:12.000000000               0  \n",
       "3  0 days 04:42:53.000000000            3530  "
      ]
     },
     "execution_count": 17,
     "metadata": {},
     "output_type": "execute_result"
    }
   ],
   "source": [
    "half_races['Fastest Time'] = pd.to_datetime(half_races['Fastest Time'])\n",
    "half_races['Slowest Time'] = pd.to_datetime(half_races['Slowest Time'])\n",
    "#half_races['Time Difference'] = pd.to_datetime(half_races['Time Difference'])\n",
    "#half_races\n",
    "half_races['Fastest Time'] = half_races['Fastest Time'].dt.strftime('%H:%M:%S')\n",
    "half_races['Slowest Time'] = half_races['Slowest Time'].dt.strftime('%H:%M:%S')\n",
    "#half_races['Time Difference'] = pd.to_datetime(half_races['Time Difference'])\n",
    "half_races"
   ]
  },
  {
   "cell_type": "code",
   "execution_count": 18,
   "metadata": {},
   "outputs": [
    {
     "data": {
      "image/png": "[encoded data removed]",
      "text/plain": [
       "<Figure size 432x288 with 1 Axes>"
      ]
     },
     "metadata": {
      "needs_background": "light"
     },
     "output_type": "display_data"
    }
   ],
   "source": [
    "plt.bar(half_races['Race'], half_races['Fastest Time'].sort_values())\n",
    "plt.xticks(half_races['Race'])\n",
    "plt.yticks(half_races['Fastest Time'])\n",
    "plt.title('');"
   ]
  },
  {
   "cell_type": "code",
   "execution_count": 19,
   "metadata": {},
   "outputs": [
    {
     "data": {
      "image/png": "[encoded data removed]",
      "text/plain": [
       "<Figure size 864x504 with 1 Axes>"
      ]
     },
     "metadata": {
      "needs_background": "light"
     },
     "output_type": "display_data"
    }
   ],
   "source": [
    "# Setting the positions and width for the bars\n",
    "pos = list(range(len(half_races['Fastest Time']))) \n",
    "width = 0.25 \n",
    "    \n",
    "# Plotting the bars\n",
    "fig, ax = plt.subplots(figsize=(12,7))\n",
    "\n",
    "# Create a bar with pre_score data,\n",
    "# in position pos,\n",
    "plt.bar(pos, \n",
    "        #using df['pre_score'] data,\n",
    "        half_races['Fastest Time'], \n",
    "        # of width\n",
    "        width, \n",
    "        # with alpha 0.5\n",
    "        alpha=0.5, \n",
    "        # with color\n",
    "        color='#EE3224', \n",
    "        # with label the first value in first_name\n",
    "        label=half_races['Fastest Time'][0]) \n",
    "\n",
    "# Create a bar with mid_score data,\n",
    "# in position pos + some width buffer,\n",
    "plt.bar([p + width for p in pos], \n",
    "        #using df['mid_score'] data,\n",
    "        half_races['Slowest Time'],\n",
    "        # of width\n",
    "        width, \n",
    "        # with alpha 0.5\n",
    "        alpha=0.5, \n",
    "        # with color\n",
    "        color='#F78F1E', \n",
    "        # with label the second value in first_name\n",
    "        label=half_races['Slowest Time'][1]) \n",
    "\n",
    "# Set the y axis label\n",
    "ax.set_ylabel('Time')\n",
    "\n",
    "# Set the chart's title\n",
    "ax.set_title('Half Marathon Times')\n",
    "\n",
    "# Set the position of the x ticks\n",
    "ax.set_xticks([p + 1.5 * width for p in pos])\n",
    "ax.set_yticks(half_races['Fastest Time'].sort_values())\n",
    "\n",
    "# Set the labels for the x ticks\n",
    "ax.set_xticklabels(half_races['Race'])\n",
    "\n",
    "# Setting the x-axis and y-axis limits\n",
    "plt.xlim(min(pos)-width, max(pos)+width*4)\n",
    "#plt.ylim([0, max(full_races['Fastest Time'])] + full_races['Slowest Time'])\n",
    "\n",
    "# Adding the legend and showing the plot\n",
    "plt.legend(['Fastest Time', 'Slowest Time'], loc='upper right')\n",
    "plt.grid()\n",
    "plt.show()"
   ]
  },
  {
   "cell_type": "code",
   "execution_count": null,
   "metadata": {},
   "outputs": [],
   "source": []
  }
 ],
 "metadata": {
  "kernelspec": {
   "display_name": "Python 3",
   "language": "python",
   "name": "python3"
  },
  "language_info": {
   "codemirror_mode": {
    "name": "ipython",
    "version": 3
   },
   "file_extension": ".py",
   "mimetype": "text/x-python",
   "name": "python",
   "nbconvert_exporter": "python",
   "pygments_lexer": "ipython3",
   "version": "3.8.3"
  }
 },
 "nbformat": 4,
 "nbformat_minor": 4
}
